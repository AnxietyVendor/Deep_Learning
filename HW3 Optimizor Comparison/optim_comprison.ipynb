{
  "nbformat": 4,
  "nbformat_minor": 0,
  "metadata": {
    "colab": {
      "name": "Untitled0.ipynb",
      "provenance": []
    },
    "kernelspec": {
      "name": "python3",
      "display_name": "Python 3"
    }
  },
  "cells": [
    {
      "cell_type": "code",
      "metadata": {
        "id": "6MThPwqzzQiu"
      },
      "source": [
        "# 载入必要的函数库\n",
        "import numpy as np\n",
        "import matplotlib.pyplot as plt\n",
        "\n",
        "import tensorflow as tf\n",
        "from keras import Model\n",
        "from keras.layers import Dense,Flatten,Input\n",
        "from keras.optimizers import SGD,RMSprop,Adam\n",
        "from keras.models import Sequential # 导入models模块中的Sequential容器\n",
        "\n",
        "from keras.utils import to_categorical "
      ],
      "execution_count": 22,
      "outputs": []
    },
    {
      "cell_type": "code",
      "metadata": {
        "id": "lIeFm2nCzdRw",
        "outputId": "e437d740-b5c7-45a6-d4f6-f43327c75fe0",
        "colab": {
          "base_uri": "https://localhost:8080/",
          "height": 52
        }
      },
      "source": [
        "## 载入mnist数据集\n",
        "mnist = tf.keras.datasets.mnist\n",
        "(X_train, y_train), (X_test, y_test) = mnist.load_data() \n",
        "\n",
        "## 转换为one - hot型向量\n",
        "Y_train=to_categorical(y_train)\n",
        "Y_test=to_categorical(y_test)\n",
        "\n",
        "print(Y_train.shape)\n",
        "print(Y_train[0])"
      ],
      "execution_count": 20,
      "outputs": [
        {
          "output_type": "stream",
          "text": [
            "(60000, 10)\n",
            "[0. 0. 0. 0. 0. 1. 0. 0. 0. 0.]\n"
          ],
          "name": "stdout"
        }
      ]
    },
    {
      "cell_type": "code",
      "metadata": {
        "id": "HLrKfBj12Rgn",
        "outputId": "7ccdb3c6-8166-42cd-9225-511fc59a5a95",
        "colab": {
          "base_uri": "https://localhost:8080/",
          "height": 1000
        }
      },
      "source": [
        "'''\n",
        " 实验：构建 Multi-layer Nueral Network 模型 \n",
        "'''\n",
        "\n",
        "##  第一步  创建模型结构 ##\n",
        "\n",
        "IMSIZE = 28                                               \n",
        "\"\"\"\n",
        "input_layer = Input([IMSIZE,IMSIZE])       # MNIST图像为28*28的单层图片\n",
        "x = input_layer                              \n",
        "x = Flatten()(input_layer)                   # 将28*28*1的Tensor拉直为784维向量\n",
        "x = Dense(1000,activation = 'relu')(x)       # 全连接到1000个节点，并采用relu激活函数\n",
        "x = Dense(10,activation = 'softmax')(x)      # 全连接到10个节点，并采用softmax激活函数转化为(0,1)取值\n",
        "output_layer=x\n",
        "model=Model(input_layer,output_layer)    # Model函数将input_layer 和 output_layer中间的部分连接起来\n",
        "\"\"\"\n",
        "model = Sequential([Input([IMSIZE,IMSIZE]),Flatten(),Dense(1000,activation='relu'),Dense(10,activation='softmax')]) # 使用sequential容器配置训练模型\n",
        "model.summary()\n",
        "\n",
        "##  第二步  模型编译 ##\n",
        "\n",
        "model.compile(loss='categorical_crossentropy',optimizer=SGD(lr=0.001),metrics=['accuracy'])\n",
        "\n",
        "##  第三步  模型拟合 ##\n",
        "\n",
        "history1 = model.fit(X_train,Y_train, validation_data=(X_test,Y_test), batch_size=1000, epochs=50)\n",
        "\n",
        "# 第四部  提取loss指标\n",
        "# model.fit会返回一个history对象，里面记录了训练集和测试集的loss以及acc\n",
        "# 我们将这些指标取出，绘制折线图\n",
        "\n",
        "train_loss1 = history1.history[\"loss\"]"
      ],
      "execution_count": 23,
      "outputs": [
        {
          "output_type": "stream",
          "text": [
            "Model: \"sequential\"\n",
            "_________________________________________________________________\n",
            "Layer (type)                 Output Shape              Param #   \n",
            "=================================================================\n",
            "flatten_2 (Flatten)          (None, 784)               0         \n",
            "_________________________________________________________________\n",
            "dense_4 (Dense)              (None, 1000)              785000    \n",
            "_________________________________________________________________\n",
            "dense_5 (Dense)              (None, 10)                10010     \n",
            "=================================================================\n",
            "Total params: 795,010\n",
            "Trainable params: 795,010\n",
            "Non-trainable params: 0\n",
            "_________________________________________________________________\n",
            "Epoch 1/50\n",
            "60/60 [==============================] - 4s 73ms/step - loss: 22.0076 - accuracy: 0.8123 - val_loss: 2.7461 - val_accuracy: 0.8975\n",
            "Epoch 2/50\n",
            "60/60 [==============================] - 4s 70ms/step - loss: 2.0617 - accuracy: 0.9091 - val_loss: 1.9415 - val_accuracy: 0.9164\n",
            "Epoch 3/50\n",
            "60/60 [==============================] - 4s 71ms/step - loss: 1.4302 - accuracy: 0.9259 - val_loss: 1.6365 - val_accuracy: 0.9241\n",
            "Epoch 4/50\n",
            "60/60 [==============================] - 4s 71ms/step - loss: 1.0852 - accuracy: 0.9363 - val_loss: 1.4366 - val_accuracy: 0.9279\n",
            "Epoch 5/50\n",
            "60/60 [==============================] - 4s 72ms/step - loss: 0.8672 - accuracy: 0.9441 - val_loss: 1.3140 - val_accuracy: 0.9306\n",
            "Epoch 6/50\n",
            "60/60 [==============================] - 4s 71ms/step - loss: 0.7099 - accuracy: 0.9511 - val_loss: 1.2512 - val_accuracy: 0.9337\n",
            "Epoch 7/50\n",
            "60/60 [==============================] - 4s 72ms/step - loss: 0.5949 - accuracy: 0.9561 - val_loss: 1.1672 - val_accuracy: 0.9355\n",
            "Epoch 8/50\n",
            "60/60 [==============================] - 4s 71ms/step - loss: 0.4977 - accuracy: 0.9615 - val_loss: 1.1267 - val_accuracy: 0.9362\n",
            "Epoch 9/50\n",
            "60/60 [==============================] - 4s 71ms/step - loss: 0.4250 - accuracy: 0.9646 - val_loss: 1.0717 - val_accuracy: 0.9380\n",
            "Epoch 10/50\n",
            "60/60 [==============================] - 4s 71ms/step - loss: 0.3633 - accuracy: 0.9690 - val_loss: 1.0345 - val_accuracy: 0.9377\n",
            "Epoch 11/50\n",
            "60/60 [==============================] - 4s 71ms/step - loss: 0.3176 - accuracy: 0.9717 - val_loss: 1.0265 - val_accuracy: 0.9377\n",
            "Epoch 12/50\n",
            "60/60 [==============================] - 4s 71ms/step - loss: 0.2723 - accuracy: 0.9740 - val_loss: 1.0071 - val_accuracy: 0.9392\n",
            "Epoch 13/50\n",
            "60/60 [==============================] - 4s 71ms/step - loss: 0.2389 - accuracy: 0.9770 - val_loss: 0.9849 - val_accuracy: 0.9395\n",
            "Epoch 14/50\n",
            "60/60 [==============================] - 4s 71ms/step - loss: 0.2078 - accuracy: 0.9785 - val_loss: 0.9754 - val_accuracy: 0.9409\n",
            "Epoch 15/50\n",
            "60/60 [==============================] - 4s 71ms/step - loss: 0.1837 - accuracy: 0.9807 - val_loss: 0.9590 - val_accuracy: 0.9407\n",
            "Epoch 16/50\n",
            "60/60 [==============================] - 4s 71ms/step - loss: 0.1605 - accuracy: 0.9827 - val_loss: 0.9478 - val_accuracy: 0.9403\n",
            "Epoch 17/50\n",
            "60/60 [==============================] - 4s 72ms/step - loss: 0.1412 - accuracy: 0.9836 - val_loss: 0.9323 - val_accuracy: 0.9423\n",
            "Epoch 18/50\n",
            "60/60 [==============================] - 4s 71ms/step - loss: 0.1237 - accuracy: 0.9853 - val_loss: 0.9309 - val_accuracy: 0.9419\n",
            "Epoch 19/50\n",
            "60/60 [==============================] - 4s 72ms/step - loss: 0.1080 - accuracy: 0.9870 - val_loss: 0.9320 - val_accuracy: 0.9422\n",
            "Epoch 20/50\n",
            "60/60 [==============================] - 4s 71ms/step - loss: 0.0936 - accuracy: 0.9886 - val_loss: 0.9320 - val_accuracy: 0.9410\n",
            "Epoch 21/50\n",
            "60/60 [==============================] - 4s 72ms/step - loss: 0.0825 - accuracy: 0.9899 - val_loss: 0.9240 - val_accuracy: 0.9422\n",
            "Epoch 22/50\n",
            "60/60 [==============================] - 4s 72ms/step - loss: 0.0716 - accuracy: 0.9915 - val_loss: 0.9203 - val_accuracy: 0.9415\n",
            "Epoch 23/50\n",
            "60/60 [==============================] - 4s 71ms/step - loss: 0.0632 - accuracy: 0.9923 - val_loss: 0.9167 - val_accuracy: 0.9417\n",
            "Epoch 24/50\n",
            "60/60 [==============================] - 4s 71ms/step - loss: 0.0554 - accuracy: 0.9932 - val_loss: 0.9124 - val_accuracy: 0.9416\n",
            "Epoch 25/50\n",
            "60/60 [==============================] - 4s 71ms/step - loss: 0.0478 - accuracy: 0.9941 - val_loss: 0.9085 - val_accuracy: 0.9423\n",
            "Epoch 26/50\n",
            "60/60 [==============================] - 4s 74ms/step - loss: 0.0417 - accuracy: 0.9949 - val_loss: 0.9059 - val_accuracy: 0.9422\n",
            "Epoch 27/50\n",
            "60/60 [==============================] - 4s 74ms/step - loss: 0.0366 - accuracy: 0.9952 - val_loss: 0.9049 - val_accuracy: 0.9419\n",
            "Epoch 28/50\n",
            "60/60 [==============================] - 4s 72ms/step - loss: 0.0316 - accuracy: 0.9963 - val_loss: 0.9038 - val_accuracy: 0.9419\n",
            "Epoch 29/50\n",
            "60/60 [==============================] - 4s 73ms/step - loss: 0.0276 - accuracy: 0.9964 - val_loss: 0.9000 - val_accuracy: 0.9419\n",
            "Epoch 30/50\n",
            "60/60 [==============================] - 4s 74ms/step - loss: 0.0237 - accuracy: 0.9973 - val_loss: 0.8981 - val_accuracy: 0.9423\n",
            "Epoch 31/50\n",
            "60/60 [==============================] - 4s 71ms/step - loss: 0.0206 - accuracy: 0.9975 - val_loss: 0.8943 - val_accuracy: 0.9428\n",
            "Epoch 32/50\n",
            "60/60 [==============================] - 4s 71ms/step - loss: 0.0178 - accuracy: 0.9980 - val_loss: 0.8956 - val_accuracy: 0.9427\n",
            "Epoch 33/50\n",
            "60/60 [==============================] - 4s 72ms/step - loss: 0.0155 - accuracy: 0.9984 - val_loss: 0.8938 - val_accuracy: 0.9426\n",
            "Epoch 34/50\n",
            "60/60 [==============================] - 4s 72ms/step - loss: 0.0134 - accuracy: 0.9985 - val_loss: 0.8902 - val_accuracy: 0.9437\n",
            "Epoch 35/50\n",
            "60/60 [==============================] - 4s 71ms/step - loss: 0.0117 - accuracy: 0.9988 - val_loss: 0.8906 - val_accuracy: 0.9435\n",
            "Epoch 36/50\n",
            "60/60 [==============================] - 4s 71ms/step - loss: 0.0102 - accuracy: 0.9990 - val_loss: 0.8892 - val_accuracy: 0.9438\n",
            "Epoch 37/50\n",
            "60/60 [==============================] - 4s 71ms/step - loss: 0.0090 - accuracy: 0.9992 - val_loss: 0.8873 - val_accuracy: 0.9439\n",
            "Epoch 38/50\n",
            "60/60 [==============================] - 4s 71ms/step - loss: 0.0079 - accuracy: 0.9994 - val_loss: 0.8868 - val_accuracy: 0.9439\n",
            "Epoch 39/50\n",
            "60/60 [==============================] - 4s 71ms/step - loss: 0.0070 - accuracy: 0.9995 - val_loss: 0.8861 - val_accuracy: 0.9440\n",
            "Epoch 40/50\n",
            "60/60 [==============================] - 4s 71ms/step - loss: 0.0062 - accuracy: 0.9996 - val_loss: 0.8854 - val_accuracy: 0.9442\n",
            "Epoch 41/50\n",
            "60/60 [==============================] - 4s 72ms/step - loss: 0.0055 - accuracy: 0.9996 - val_loss: 0.8847 - val_accuracy: 0.9441\n",
            "Epoch 42/50\n",
            "60/60 [==============================] - 4s 72ms/step - loss: 0.0049 - accuracy: 0.9997 - val_loss: 0.8835 - val_accuracy: 0.9442\n",
            "Epoch 43/50\n",
            "60/60 [==============================] - 4s 71ms/step - loss: 0.0044 - accuracy: 0.9997 - val_loss: 0.8824 - val_accuracy: 0.9437\n",
            "Epoch 44/50\n",
            "60/60 [==============================] - 4s 71ms/step - loss: 0.0040 - accuracy: 0.9998 - val_loss: 0.8829 - val_accuracy: 0.9438\n",
            "Epoch 45/50\n",
            "60/60 [==============================] - 4s 71ms/step - loss: 0.0036 - accuracy: 0.9999 - val_loss: 0.8820 - val_accuracy: 0.9441\n",
            "Epoch 46/50\n",
            "60/60 [==============================] - 4s 71ms/step - loss: 0.0033 - accuracy: 0.9998 - val_loss: 0.8807 - val_accuracy: 0.9444\n",
            "Epoch 47/50\n",
            "60/60 [==============================] - 4s 72ms/step - loss: 0.0030 - accuracy: 0.9999 - val_loss: 0.8800 - val_accuracy: 0.9444\n",
            "Epoch 48/50\n",
            "60/60 [==============================] - 4s 71ms/step - loss: 0.0028 - accuracy: 0.9999 - val_loss: 0.8798 - val_accuracy: 0.9446\n",
            "Epoch 49/50\n",
            "60/60 [==============================] - 4s 73ms/step - loss: 0.0026 - accuracy: 0.9999 - val_loss: 0.8786 - val_accuracy: 0.9445\n",
            "Epoch 50/50\n",
            "60/60 [==============================] - 4s 75ms/step - loss: 0.0024 - accuracy: 0.9999 - val_loss: 0.8786 - val_accuracy: 0.9443\n"
          ],
          "name": "stdout"
        }
      ]
    },
    {
      "cell_type": "code",
      "metadata": {
        "id": "8ZH_pj0d3Tni",
        "outputId": "88af7022-9da7-405e-ace5-7a9a3bbd606c",
        "colab": {
          "base_uri": "https://localhost:8080/",
          "height": 279
        }
      },
      "source": [
        "x = np.arange(50) # 生成0:49的连续整数代表epoch\n",
        "y = train_loss1 # 将history对象的loss属性命名为y\n",
        "plt.plot(x,y,color='red',label='SGD') # 绘制x-y散点图并用红色平滑曲线连接，图例为SGD\n",
        "plt.legend(title='loss curves of different optimizers') # 设置图例标题为不同优化器下的损失曲线\n",
        "plt.xlabel('epoch') # 设置横轴表示epoch\n",
        "plt.ylabel('accuracy') # 设置纵轴表示accuracy\n",
        "plt.show() # 绘制图像"
      ],
      "execution_count": 24,
      "outputs": [
        {
          "output_type": "display_data",
          "data": {
            "image/png": "[encoded data removed]",
            "text/plain": [
              "<Figure size 432x288 with 1 Axes>"
            ]
          },
          "metadata": {
            "tags": [],
            "needs_background": "light"
          }
        }
      ]
    },
    {
      "cell_type": "code",
      "metadata": {
        "id": "5L-oT54x64JW",
        "outputId": "ecdb4642-0baf-45ef-fc84-0db910a747d3",
        "colab": {
          "base_uri": "https://localhost:8080/",
          "height": 824
        }
      },
      "source": [
        "from keras.models import Sequential # 导入models模块中的Sequential容器\n",
        "\n",
        "optim_list = ['SGD','RMSprop','Adagrad','Adadelta','Adam','Adamax','Nadam'] # 新建一个列表来存储所有优化器的名称\n",
        "color_list = ['red','orange','yellow','green','blue','purple','grey'] # 新建一个列表来储存不同优化器对应损失曲线的颜色\n",
        "\n",
        "for i in range(7): # 生成0:6的连续整数代表7种优化器的下标\n",
        "  print('Optimizer:') # 输出当前模型使用的优化器名称\n",
        "  print(optim_list[i])\n",
        "  IMSIZE = 28 # 设置输入图像的长宽为28像素\n",
        "  \"\"\"                                               \n",
        "  input_layer = Input([IMSIZE,IMSIZE])       # MNIST图像为28*28的单层图片\n",
        "  x = input_layer                              \n",
        "  x = Flatten()(input_layer)                   # 将28*28*1的Tensor拉直为784维向量\n",
        "  x = Dense(1000,activation = 'relu')(x)       # 全连接到1000个节点，并采用relu激活函数\n",
        "  x = Dense(10,activation = 'softmax')(x)      # 全连接到10个节点，并采用softmax激活函数转化为(0,1)取值\n",
        "  output_layer=x\n",
        "  model = Model(input_layer,output_layer)    # Model函数将input_layer 和 output_layer中间的部分连接起来\n",
        "  \"\"\"\n",
        "  model = Sequential([Input([IMSIZE,IMSIZE]),Flatten(),Dense(1000,activation='relu'),Dense(10,activation='softmax')]) # 使用sequential容器配置训练模型\n",
        "  model.summary() #　输出模型信息\n",
        "\n",
        "  model.compile(loss='categorical_crossentropy',optimizer=optim_list[i],metrics=['accuracy']) # 模型编译，损失函数为交叉熵，优化器为优化器列表中的下标为i的优化器，性能度量指标为accuracy准确率\n",
        "\n",
        "  trained_model = model.fit(X_train,Y_train, validation_data=(X_test,Y_test), batch_size=1000, epochs=50) # 训练模型，每批1000张图，一共50批\n",
        "  x = np.arange(50) # 生成0:49的连续整数代表epoch　\n",
        "  y = trained_model.history[\"loss\"] # 将history对象的loss属性命名为y\n",
        "  plt.plot(x,y,color=color_list[i],label=optim_list[i])# 绘制当前优化器下的损失曲线，并设置对应的图例\n",
        "  plt.legend(title='loss curves of different optimizers') # 设定图片标题\n",
        "plt.xlabel('epoch') #　设置横坐标为epoch\n",
        "plt.ylabel('accuracy') # 设置纵坐标为accuracy\n",
        "plt.show() # 绘制图像\n"
      ],
      "execution_count": 29,
      "outputs": [
        {
          "output_type": "stream",
          "text": [
            "Optimizer:\n",
            "SGD\n",
            "Model: \"sequential_2\"\n",
            "_________________________________________________________________\n",
            "Layer (type)                 Output Shape              Param #   \n",
            "=================================================================\n",
            "flatten_4 (Flatten)          (None, 784)               0         \n",
            "_________________________________________________________________\n",
            "dense_8 (Dense)              (None, 1000)              785000    \n",
            "_________________________________________________________________\n",
            "dense_9 (Dense)              (None, 10)                10010     \n",
            "=================================================================\n",
            "Total params: 795,010\n",
            "Trainable params: 795,010\n",
            "Non-trainable params: 0\n",
            "_________________________________________________________________\n",
            "Epoch 1/50\n",
            "60/60 [==============================] - 4s 73ms/step - loss: 682.2188 - accuracy: 0.6188 - val_loss: 0.6291 - val_accuracy: 0.8392\n",
            "Epoch 2/50\n",
            "10/60 [====>.........................] - ETA: 2s - loss: 0.5710 - accuracy: 0.8479"
          ],
          "name": "stdout"
        },
        {
          "output_type": "error",
          "ename": "KeyboardInterrupt",
          "evalue": "ignored",
          "traceback": [
            "\u001b[0;31m---------------------------------------------------------------------------\u001b[0m",
            "\u001b[0;31mKeyboardInterrupt\u001b[0m                         Traceback (most recent call last)",
            "\u001b[0;32m<ipython-input-29-43e433ad0a76>\u001b[0m in \u001b[0;36m<module>\u001b[0;34m()\u001b[0m\n\u001b[1;32m     22\u001b[0m   \u001b[0mmodel\u001b[0m\u001b[0;34m.\u001b[0m\u001b[0mcompile\u001b[0m\u001b[0;34m(\u001b[0m\u001b[0mloss\u001b[0m\u001b[0;34m=\u001b[0m\u001b[0;34m'categorical_crossentropy'\u001b[0m\u001b[0;34m,\u001b[0m\u001b[0moptimizer\u001b[0m\u001b[0;34m=\u001b[0m\u001b[0moptim_list\u001b[0m\u001b[0;34m[\u001b[0m\u001b[0mi\u001b[0m\u001b[0;34m]\u001b[0m\u001b[0;34m,\u001b[0m\u001b[0mmetrics\u001b[0m\u001b[0;34m=\u001b[0m\u001b[0;34m[\u001b[0m\u001b[0;34m'accuracy'\u001b[0m\u001b[0;34m]\u001b[0m\u001b[0;34m)\u001b[0m \u001b[0;31m# 模型编译，损失函数为交叉熵，优化器为优化器列表中的下标为i的优化器，性能度量指标为accuracy准确率\u001b[0m\u001b[0;34m\u001b[0m\u001b[0;34m\u001b[0m\u001b[0m\n\u001b[1;32m     23\u001b[0m \u001b[0;34m\u001b[0m\u001b[0m\n\u001b[0;32m---> 24\u001b[0;31m   \u001b[0mtrained_model\u001b[0m \u001b[0;34m=\u001b[0m \u001b[0mmodel\u001b[0m\u001b[0;34m.\u001b[0m\u001b[0mfit\u001b[0m\u001b[0;34m(\u001b[0m\u001b[0mX_train\u001b[0m\u001b[0;34m,\u001b[0m\u001b[0mY_train\u001b[0m\u001b[0;34m,\u001b[0m \u001b[0mvalidation_data\u001b[0m\u001b[0;34m=\u001b[0m\u001b[0;34m(\u001b[0m\u001b[0mX_test\u001b[0m\u001b[0;34m,\u001b[0m\u001b[0mY_test\u001b[0m\u001b[0;34m)\u001b[0m\u001b[0;34m,\u001b[0m \u001b[0mbatch_size\u001b[0m\u001b[0;34m=\u001b[0m\u001b[0;36m1000\u001b[0m\u001b[0;34m,\u001b[0m \u001b[0mepochs\u001b[0m\u001b[0;34m=\u001b[0m\u001b[0;36m50\u001b[0m\u001b[0;34m)\u001b[0m \u001b[0;31m# 训练模型，每批1000张图，一共50批\u001b[0m\u001b[0;34m\u001b[0m\u001b[0;34m\u001b[0m\u001b[0m\n\u001b[0m\u001b[1;32m     25\u001b[0m   \u001b[0mx\u001b[0m \u001b[0;34m=\u001b[0m \u001b[0mnp\u001b[0m\u001b[0;34m.\u001b[0m\u001b[0marange\u001b[0m\u001b[0;34m(\u001b[0m\u001b[0;36m50\u001b[0m\u001b[0;34m)\u001b[0m \u001b[0;31m# 生成0:49的连续整数代表epoch\u001b[0m\u001b[0;34m\u001b[0m\u001b[0;34m\u001b[0m\u001b[0m\n\u001b[1;32m     26\u001b[0m   \u001b[0my\u001b[0m \u001b[0;34m=\u001b[0m \u001b[0mtrained_model\u001b[0m\u001b[0;34m.\u001b[0m\u001b[0mhistory\u001b[0m\u001b[0;34m[\u001b[0m\u001b[0;34m\"loss\"\u001b[0m\u001b[0;34m]\u001b[0m \u001b[0;31m# 将history对象的loss属性命名为y\u001b[0m\u001b[0;34m\u001b[0m\u001b[0;34m\u001b[0m\u001b[0m\n",
            "\u001b[0;32m/usr/local/lib/python3.6/dist-packages/tensorflow/python/keras/engine/training.py\u001b[0m in \u001b[0;36m_method_wrapper\u001b[0;34m(self, *args, **kwargs)\u001b[0m\n\u001b[1;32m    106\u001b[0m   \u001b[0;32mdef\u001b[0m \u001b[0m_method_wrapper\u001b[0m\u001b[0;34m(\u001b[0m\u001b[0mself\u001b[0m\u001b[0;34m,\u001b[0m \u001b[0;34m*\u001b[0m\u001b[0margs\u001b[0m\u001b[0;34m,\u001b[0m \u001b[0;34m**\u001b[0m\u001b[0mkwargs\u001b[0m\u001b[0;34m)\u001b[0m\u001b[0;34m:\u001b[0m\u001b[0;34m\u001b[0m\u001b[0;34m\u001b[0m\u001b[0m\n\u001b[1;32m    107\u001b[0m     \u001b[0;32mif\u001b[0m \u001b[0;32mnot\u001b[0m \u001b[0mself\u001b[0m\u001b[0;34m.\u001b[0m\u001b[0m_in_multi_worker_mode\u001b[0m\u001b[0;34m(\u001b[0m\u001b[0;34m)\u001b[0m\u001b[0;34m:\u001b[0m  \u001b[0;31m# pylint: disable=protected-access\u001b[0m\u001b[0;34m\u001b[0m\u001b[0;34m\u001b[0m\u001b[0m\n\u001b[0;32m--> 108\u001b[0;31m       \u001b[0;32mreturn\u001b[0m \u001b[0mmethod\u001b[0m\u001b[0;34m(\u001b[0m\u001b[0mself\u001b[0m\u001b[0;34m,\u001b[0m \u001b[0;34m*\u001b[0m\u001b[0margs\u001b[0m\u001b[0;34m,\u001b[0m \u001b[0;34m**\u001b[0m\u001b[0mkwargs\u001b[0m\u001b[0;34m)\u001b[0m\u001b[0;34m\u001b[0m\u001b[0;34m\u001b[0m\u001b[0m\n\u001b[0m\u001b[1;32m    109\u001b[0m \u001b[0;34m\u001b[0m\u001b[0m\n\u001b[1;32m    110\u001b[0m     \u001b[0;31m# Running inside `run_distribute_coordinator` already.\u001b[0m\u001b[0;34m\u001b[0m\u001b[0;34m\u001b[0m\u001b[0;34m\u001b[0m\u001b[0m\n",
            "\u001b[0;32m/usr/local/lib/python3.6/dist-packages/tensorflow/python/keras/engine/training.py\u001b[0m in \u001b[0;36mfit\u001b[0;34m(self, x, y, batch_size, epochs, verbose, callbacks, validation_split, validation_data, shuffle, class_weight, sample_weight, initial_epoch, steps_per_epoch, validation_steps, validation_batch_size, validation_freq, max_queue_size, workers, use_multiprocessing)\u001b[0m\n\u001b[1;32m   1096\u001b[0m                 batch_size=batch_size):\n\u001b[1;32m   1097\u001b[0m               \u001b[0mcallbacks\u001b[0m\u001b[0;34m.\u001b[0m\u001b[0mon_train_batch_begin\u001b[0m\u001b[0;34m(\u001b[0m\u001b[0mstep\u001b[0m\u001b[0;34m)\u001b[0m\u001b[0;34m\u001b[0m\u001b[0;34m\u001b[0m\u001b[0m\n\u001b[0;32m-> 1098\u001b[0;31m               \u001b[0mtmp_logs\u001b[0m \u001b[0;34m=\u001b[0m \u001b[0mtrain_function\u001b[0m\u001b[0;34m(\u001b[0m\u001b[0miterator\u001b[0m\u001b[0;34m)\u001b[0m\u001b[0;34m\u001b[0m\u001b[0;34m\u001b[0m\u001b[0m\n\u001b[0m\u001b[1;32m   1099\u001b[0m               \u001b[0;32mif\u001b[0m \u001b[0mdata_handler\u001b[0m\u001b[0;34m.\u001b[0m\u001b[0mshould_sync\u001b[0m\u001b[0;34m:\u001b[0m\u001b[0;34m\u001b[0m\u001b[0;34m\u001b[0m\u001b[0m\n\u001b[1;32m   1100\u001b[0m                 \u001b[0mcontext\u001b[0m\u001b[0;34m.\u001b[0m\u001b[0masync_wait\u001b[0m\u001b[0;34m(\u001b[0m\u001b[0;34m)\u001b[0m\u001b[0;34m\u001b[0m\u001b[0;34m\u001b[0m\u001b[0m\n",
            "\u001b[0;32m/usr/local/lib/python3.6/dist-packages/tensorflow/python/eager/def_function.py\u001b[0m in \u001b[0;36m__call__\u001b[0;34m(self, *args, **kwds)\u001b[0m\n\u001b[1;32m    778\u001b[0m       \u001b[0;32melse\u001b[0m\u001b[0;34m:\u001b[0m\u001b[0;34m\u001b[0m\u001b[0;34m\u001b[0m\u001b[0m\n\u001b[1;32m    779\u001b[0m         \u001b[0mcompiler\u001b[0m \u001b[0;34m=\u001b[0m \u001b[0;34m\"nonXla\"\u001b[0m\u001b[0;34m\u001b[0m\u001b[0;34m\u001b[0m\u001b[0m\n\u001b[0;32m--> 780\u001b[0;31m         \u001b[0mresult\u001b[0m \u001b[0;34m=\u001b[0m \u001b[0mself\u001b[0m\u001b[0;34m.\u001b[0m\u001b[0m_call\u001b[0m\u001b[0;34m(\u001b[0m\u001b[0;34m*\u001b[0m\u001b[0margs\u001b[0m\u001b[0;34m,\u001b[0m \u001b[0;34m**\u001b[0m\u001b[0mkwds\u001b[0m\u001b[0;34m)\u001b[0m\u001b[0;34m\u001b[0m\u001b[0;34m\u001b[0m\u001b[0m\n\u001b[0m\u001b[1;32m    781\u001b[0m \u001b[0;34m\u001b[0m\u001b[0m\n\u001b[1;32m    782\u001b[0m       \u001b[0mnew_tracing_count\u001b[0m \u001b[0;34m=\u001b[0m \u001b[0mself\u001b[0m\u001b[0;34m.\u001b[0m\u001b[0m_get_tracing_count\u001b[0m\u001b[0;34m(\u001b[0m\u001b[0;34m)\u001b[0m\u001b[0;34m\u001b[0m\u001b[0;34m\u001b[0m\u001b[0m\n",
            "\u001b[0;32m/usr/local/lib/python3.6/dist-packages/tensorflow/python/eager/def_function.py\u001b[0m in \u001b[0;36m_call\u001b[0;34m(self, *args, **kwds)\u001b[0m\n\u001b[1;32m    805\u001b[0m       \u001b[0;31m# In this case we have created variables on the first call, so we run the\u001b[0m\u001b[0;34m\u001b[0m\u001b[0;34m\u001b[0m\u001b[0;34m\u001b[0m\u001b[0m\n\u001b[1;32m    806\u001b[0m       \u001b[0;31m# defunned version which is guaranteed to never create variables.\u001b[0m\u001b[0;34m\u001b[0m\u001b[0;34m\u001b[0m\u001b[0;34m\u001b[0m\u001b[0m\n\u001b[0;32m--> 807\u001b[0;31m       \u001b[0;32mreturn\u001b[0m \u001b[0mself\u001b[0m\u001b[0;34m.\u001b[0m\u001b[0m_stateless_fn\u001b[0m\u001b[0;34m(\u001b[0m\u001b[0;34m*\u001b[0m\u001b[0margs\u001b[0m\u001b[0;34m,\u001b[0m \u001b[0;34m**\u001b[0m\u001b[0mkwds\u001b[0m\u001b[0;34m)\u001b[0m  \u001b[0;31m# pylint: disable=not-callable\u001b[0m\u001b[0;34m\u001b[0m\u001b[0;34m\u001b[0m\u001b[0m\n\u001b[0m\u001b[1;32m    808\u001b[0m     \u001b[0;32melif\u001b[0m \u001b[0mself\u001b[0m\u001b[0;34m.\u001b[0m\u001b[0m_stateful_fn\u001b[0m \u001b[0;32mis\u001b[0m \u001b[0;32mnot\u001b[0m \u001b[0;32mNone\u001b[0m\u001b[0;34m:\u001b[0m\u001b[0;34m\u001b[0m\u001b[0;34m\u001b[0m\u001b[0m\n\u001b[1;32m    809\u001b[0m       \u001b[0;31m# Release the lock early so that multiple threads can perform the call\u001b[0m\u001b[0;34m\u001b[0m\u001b[0;34m\u001b[0m\u001b[0;34m\u001b[0m\u001b[0m\n",
            "\u001b[0;32m/usr/local/lib/python3.6/dist-packages/tensorflow/python/eager/function.py\u001b[0m in \u001b[0;36m__call__\u001b[0;34m(self, *args, **kwargs)\u001b[0m\n\u001b[1;32m   2827\u001b[0m     \u001b[0;32mwith\u001b[0m \u001b[0mself\u001b[0m\u001b[0;34m.\u001b[0m\u001b[0m_lock\u001b[0m\u001b[0;34m:\u001b[0m\u001b[0;34m\u001b[0m\u001b[0;34m\u001b[0m\u001b[0m\n\u001b[1;32m   2828\u001b[0m       \u001b[0mgraph_function\u001b[0m\u001b[0;34m,\u001b[0m \u001b[0margs\u001b[0m\u001b[0;34m,\u001b[0m \u001b[0mkwargs\u001b[0m \u001b[0;34m=\u001b[0m \u001b[0mself\u001b[0m\u001b[0;34m.\u001b[0m\u001b[0m_maybe_define_function\u001b[0m\u001b[0;34m(\u001b[0m\u001b[0margs\u001b[0m\u001b[0;34m,\u001b[0m \u001b[0mkwargs\u001b[0m\u001b[0;34m)\u001b[0m\u001b[0;34m\u001b[0m\u001b[0;34m\u001b[0m\u001b[0m\n\u001b[0;32m-> 2829\u001b[0;31m     \u001b[0;32mreturn\u001b[0m \u001b[0mgraph_function\u001b[0m\u001b[0;34m.\u001b[0m\u001b[0m_filtered_call\u001b[0m\u001b[0;34m(\u001b[0m\u001b[0margs\u001b[0m\u001b[0;34m,\u001b[0m \u001b[0mkwargs\u001b[0m\u001b[0;34m)\u001b[0m  \u001b[0;31m# pylint: disable=protected-access\u001b[0m\u001b[0;34m\u001b[0m\u001b[0;34m\u001b[0m\u001b[0m\n\u001b[0m\u001b[1;32m   2830\u001b[0m \u001b[0;34m\u001b[0m\u001b[0m\n\u001b[1;32m   2831\u001b[0m   \u001b[0;34m@\u001b[0m\u001b[0mproperty\u001b[0m\u001b[0;34m\u001b[0m\u001b[0;34m\u001b[0m\u001b[0m\n",
            "\u001b[0;32m/usr/local/lib/python3.6/dist-packages/tensorflow/python/eager/function.py\u001b[0m in \u001b[0;36m_filtered_call\u001b[0;34m(self, args, kwargs, cancellation_manager)\u001b[0m\n\u001b[1;32m   1846\u001b[0m                            resource_variable_ops.BaseResourceVariable))],\n\u001b[1;32m   1847\u001b[0m         \u001b[0mcaptured_inputs\u001b[0m\u001b[0;34m=\u001b[0m\u001b[0mself\u001b[0m\u001b[0;34m.\u001b[0m\u001b[0mcaptured_inputs\u001b[0m\u001b[0;34m,\u001b[0m\u001b[0;34m\u001b[0m\u001b[0;34m\u001b[0m\u001b[0m\n\u001b[0;32m-> 1848\u001b[0;31m         cancellation_manager=cancellation_manager)\n\u001b[0m\u001b[1;32m   1849\u001b[0m \u001b[0;34m\u001b[0m\u001b[0m\n\u001b[1;32m   1850\u001b[0m   \u001b[0;32mdef\u001b[0m \u001b[0m_call_flat\u001b[0m\u001b[0;34m(\u001b[0m\u001b[0mself\u001b[0m\u001b[0;34m,\u001b[0m \u001b[0margs\u001b[0m\u001b[0;34m,\u001b[0m \u001b[0mcaptured_inputs\u001b[0m\u001b[0;34m,\u001b[0m \u001b[0mcancellation_manager\u001b[0m\u001b[0;34m=\u001b[0m\u001b[0;32mNone\u001b[0m\u001b[0;34m)\u001b[0m\u001b[0;34m:\u001b[0m\u001b[0;34m\u001b[0m\u001b[0;34m\u001b[0m\u001b[0m\n",
            "\u001b[0;32m/usr/local/lib/python3.6/dist-packages/tensorflow/python/eager/function.py\u001b[0m in \u001b[0;36m_call_flat\u001b[0;34m(self, args, captured_inputs, cancellation_manager)\u001b[0m\n\u001b[1;32m   1922\u001b[0m       \u001b[0;31m# No tape is watching; skip to running the function.\u001b[0m\u001b[0;34m\u001b[0m\u001b[0;34m\u001b[0m\u001b[0;34m\u001b[0m\u001b[0m\n\u001b[1;32m   1923\u001b[0m       return self._build_call_outputs(self._inference_function.call(\n\u001b[0;32m-> 1924\u001b[0;31m           ctx, args, cancellation_manager=cancellation_manager))\n\u001b[0m\u001b[1;32m   1925\u001b[0m     forward_backward = self._select_forward_and_backward_functions(\n\u001b[1;32m   1926\u001b[0m         \u001b[0margs\u001b[0m\u001b[0;34m,\u001b[0m\u001b[0;34m\u001b[0m\u001b[0;34m\u001b[0m\u001b[0m\n",
            "\u001b[0;32m/usr/local/lib/python3.6/dist-packages/tensorflow/python/eager/function.py\u001b[0m in \u001b[0;36mcall\u001b[0;34m(self, ctx, args, cancellation_manager)\u001b[0m\n\u001b[1;32m    548\u001b[0m               \u001b[0minputs\u001b[0m\u001b[0;34m=\u001b[0m\u001b[0margs\u001b[0m\u001b[0;34m,\u001b[0m\u001b[0;34m\u001b[0m\u001b[0;34m\u001b[0m\u001b[0m\n\u001b[1;32m    549\u001b[0m               \u001b[0mattrs\u001b[0m\u001b[0;34m=\u001b[0m\u001b[0mattrs\u001b[0m\u001b[0;34m,\u001b[0m\u001b[0;34m\u001b[0m\u001b[0;34m\u001b[0m\u001b[0m\n\u001b[0;32m--> 550\u001b[0;31m               ctx=ctx)\n\u001b[0m\u001b[1;32m    551\u001b[0m         \u001b[0;32melse\u001b[0m\u001b[0;34m:\u001b[0m\u001b[0;34m\u001b[0m\u001b[0;34m\u001b[0m\u001b[0m\n\u001b[1;32m    552\u001b[0m           outputs = execute.execute_with_cancellation(\n",
            "\u001b[0;32m/usr/local/lib/python3.6/dist-packages/tensorflow/python/eager/execute.py\u001b[0m in \u001b[0;36mquick_execute\u001b[0;34m(op_name, num_outputs, inputs, attrs, ctx, name)\u001b[0m\n\u001b[1;32m     58\u001b[0m     \u001b[0mctx\u001b[0m\u001b[0;34m.\u001b[0m\u001b[0mensure_initialized\u001b[0m\u001b[0;34m(\u001b[0m\u001b[0;34m)\u001b[0m\u001b[0;34m\u001b[0m\u001b[0;34m\u001b[0m\u001b[0m\n\u001b[1;32m     59\u001b[0m     tensors = pywrap_tfe.TFE_Py_Execute(ctx._handle, device_name, op_name,\n\u001b[0;32m---> 60\u001b[0;31m                                         inputs, attrs, num_outputs)\n\u001b[0m\u001b[1;32m     61\u001b[0m   \u001b[0;32mexcept\u001b[0m \u001b[0mcore\u001b[0m\u001b[0;34m.\u001b[0m\u001b[0m_NotOkStatusException\u001b[0m \u001b[0;32mas\u001b[0m \u001b[0me\u001b[0m\u001b[0;34m:\u001b[0m\u001b[0;34m\u001b[0m\u001b[0;34m\u001b[0m\u001b[0m\n\u001b[1;32m     62\u001b[0m     \u001b[0;32mif\u001b[0m \u001b[0mname\u001b[0m \u001b[0;32mis\u001b[0m \u001b[0;32mnot\u001b[0m \u001b[0;32mNone\u001b[0m\u001b[0;34m:\u001b[0m\u001b[0;34m\u001b[0m\u001b[0;34m\u001b[0m\u001b[0m\n",
            "\u001b[0;31mKeyboardInterrupt\u001b[0m: "
          ]
        }
      ]
    }
  ]
}